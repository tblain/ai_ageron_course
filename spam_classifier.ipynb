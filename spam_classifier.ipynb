{
 "cells": [
  {
   "cell_type": "code",
   "execution_count": 82,
   "metadata": {},
   "outputs": [],
   "source": [
    "import os\n",
    "import tarfile\n",
    "from six.moves import urllib\n",
    "\n",
    "DOWNLOAD_ROOT = \"http://spamassassin.apache.org/old/publiccorpus/\"\n",
    "HAM_URL = DOWNLOAD_ROOT + \"20021010_hard_ham.tar.bz2\"\n",
    "SPAM_URL = DOWNLOAD_ROOT + \"20021010_spam.tar.bz2\"\n",
    "SPAM_PATH = os.path.join(\"datasets\", \"spam\")\n",
    "\n",
    "def fetch_spam_data(spam_url=SPAM_URL, spam_path=SPAM_PATH):\n",
    "    if not os.path.isdir(spam_path):\n",
    "        os.makedirs(spam_path)\n",
    "    for filename, url in ((\"ham.tar.bz2\", HAM_URL), (\"spam.tar.bz2\", SPAM_URL)):\n",
    "        path = os.path.join(spam_path, filename)\n",
    "        if not os.path.isfile(path):\n",
    "            urllib.request.urlretrieve(url, path)\n",
    "        tar_bz2_file = tarfile.open(path)\n",
    "        tar_bz2_file.extractall(path=SPAM_PATH)\n",
    "        tar_bz2_file.close()"
   ]
  },
  {
   "cell_type": "code",
   "execution_count": 83,
   "metadata": {},
   "outputs": [],
   "source": [
    "fetch_spam_data()"
   ]
  },
  {
   "cell_type": "code",
   "execution_count": 84,
   "metadata": {},
   "outputs": [],
   "source": [
    "HAM_DIR = os.path.join(SPAM_PATH, \"hard_ham\")\n",
    "SPAM_DIR = os.path.join(SPAM_PATH, \"spam\")\n",
    "ham_filenames = [name for name in sorted(os.listdir(HAM_DIR)) if len(name) > 20]\n",
    "spam_filenames = [name for name in sorted(os.listdir(SPAM_DIR)) if len(name) > 20]"
   ]
  },
  {
   "cell_type": "code",
   "execution_count": 85,
   "metadata": {},
   "outputs": [
    {
     "data": {
      "text/plain": [
       "250"
      ]
     },
     "execution_count": 85,
     "metadata": {},
     "output_type": "execute_result"
    }
   ],
   "source": [
    "len(ham_filenames)"
   ]
  },
  {
   "cell_type": "code",
   "execution_count": 86,
   "metadata": {},
   "outputs": [
    {
     "data": {
      "text/plain": [
       "500"
      ]
     },
     "execution_count": 86,
     "metadata": {},
     "output_type": "execute_result"
    }
   ],
   "source": [
    "len(spam_filenames)"
   ]
  },
  {
   "cell_type": "code",
   "execution_count": 89,
   "metadata": {},
   "outputs": [],
   "source": [
    "import email\n",
    "import email.policy\n",
    "\n",
    "def load_email(is_spam, filename, spam_path=SPAM_PATH):\n",
    "    directory = \"spam\" if is_spam else \"hard_ham\"\n",
    "    with open(os.path.join(spam_path, directory, filename), \"rb\") as f:\n",
    "        return email.parser.BytesParser(policy=email.policy.default).parse(f)"
   ]
  },
  {
   "cell_type": "code",
   "execution_count": 90,
   "metadata": {},
   "outputs": [],
   "source": [
    "ham_emails = [load_email(is_spam=False, filename=name) for name in ham_filenames]\n",
    "spam_emails = [load_email(is_spam=True, filename=name) for name in spam_filenames]"
   ]
  },
  {
   "cell_type": "code",
   "execution_count": 92,
   "metadata": {},
   "outputs": [
    {
     "name": "stdout",
     "output_type": "stream",
     "text": [
      "<html>\n",
      "<head>\n",
      "\t<title>Shopper Newsletter: Alerts</title>\n",
      "\n",
      "</head>\n",
      "<body bgcolor=\"#EEEEEE\" alink=\"#0000FF\" vlink=\"#0000FF\">\n",
      "<center>\n",
      "<A href=\"top\"></A><!-- header -->\n",
      "\t<table border=0 cellpadding=0 cellspacing=0 width=612 bgcolor=\"#ffffff\">\n",
      "\t<tr valign=top>\n",
      "\t\t<td width=442 colspan=5>\n",
      "\t\t\t<img src=\"http://www.cnet.com/i/sh/nl/442_shopperALERT.gif\" width=\"442\" height=\"60\" border=\"0\" alt=\"CNET Shopper Newsletter Alerts\"><br>\n",
      "\t\t\t\t<table width=442 cellpadding=0 cellspacing=0 border=0 bgcolor=\"#CCCCCC\">\n",
      "\t\t\t\t\t<tr>\n",
      "\t\t\t\t\t\t<td bgcolor=\"#999999\" colspan=1>\n",
      "\t\t\t\t\t\t\t<img src=\"http://home.cnet.com/b.gif\" width=\"1\" height=\"1\" border=\"0\"><br>\n",
      "\t\t\t\t\t\t</td>\n",
      "\t\t\t\t\t\t<td bgcolor=\"#666666\" colspan=1>\n",
      "\t\t\t\t\t\t\t<img src=\"http://home.cnet.com/b.gif\" width=\"1\" height=\"1\" border=\"0\"><br>\n",
      "\t\t\t\t\t\t</td>\n",
      "\t\t\t\t\t\t<td bgcolor=\"#666666\" colspan=2>\n",
      "\t\t\t\t\t\t\t<img src=\"http://home.cnet.com/b.gif\" width=\"1\" height=\"1\" border=\"0\"><br>\n",
      "\t\t\t\t\t\t</td>\n",
      "\t\t\t\t\t</tr>\n",
      "\t\t\t\t\t<tr>\n",
      "\t\t\t\t\t\t<td bgcolor=\"#999999\" width=1 rowspan=2>\n",
      "\t\t\t\t\t\t\t<img src=\"http://home.cnet.com/b.gif\" width=\"1\" height=\"10\" border=\"0\"><br>\n",
      "\t\t\t\t\t\t</td>\n",
      "\t\t\t\t\t\t<td bgcolor=\"#666666\" width=1 rowspan=2>\n",
      "\t\t\t\t\t\t\t<img src=\"http://home.cnet.com/b.gif\" width=\"1\" height=\"10\" border=\"0\"><br>\n",
      "\t\t\t\t\t\t</td>\n",
      "\t\t\t\t\t\t<td width=9 rowspan=2>\n",
      "\t\t\t\t\t\t\t<img src=\"http://home.cnet.com/b.gif\" width=\"1\" height=\"10\" border=\"0\"><br>\n",
      "\t\t\t\t\t\t</td>\n",
      "\t\t\t\t\t\t<td  width=430>\n",
      "\t\t\t\t\t\t\t<img src=\"http://home.cnet.com/b.gif\" width=\"1\" height=\"10\" border=\"0\"><br>\n",
      "\t\t\t\t\t\t</td>\t\t\t\t\n",
      "\t\t\t\t\t</tr>\n",
      "\t\t\t\t\t<tr>\n",
      "\t\t\t\t\t\t<td bgcolor=\"#666666\">\n",
      "\t\t\t\t\t\t\t<img src=\"http://home.cnet.com/b.gif\" width=\"1\" height=\"1\" border=\"0\"><br>\n",
      "\t\t\t\t\t\t</td>\n",
      "\t\t\t\t\t</tr>\n",
      "      \t\t\t</table>\t\n",
      "<!-- Right column -->\n",
      "\n",
      "\t\t</td>\n",
      "\t\t<td width=160 rowspan=2>\n",
      "\t\t\t<img src=\"http://www.cnet.com/i/dp/dd_b.gif\" width=\"160\" height=\"18\" border=\"0\"><br>\n",
      "<!-- advertisement label gif -->\n",
      "\t\t\t\t<table cellpadding=0 cellspacing=0 border=0 width=160>\n",
      "\t\t\t\t\t<tr>\n",
      "\t\t\t\t\t\t<td align=middle bgcolor=\"#eeeeee\">\n",
      "\t\t\t\t\t\t\t<img src=\"http://www.cnet.com/Ads/Media/Images/ad10-dk.gif\" width=\"120\" height=\"10\" border=\"0\"><br>\n",
      "\t\t\t\t\t\t</td>\n",
      "\t\t\t\t\t</tr>\n",
      "\t\t\t\t</table>\n",
      "<!-- /advertisement label gif -->\n",
      "\n",
      "<!-- insert ad here -->\n",
      "\n",
      "<iframe src=\"http://www.zdnet.com/include/ads/ifc/RGROUP=2560\" scrolling=\"no\" frameborder=\"0\" hspace=\"0\" vspace=\"0\" height=\"600\" width=\"160\" marginheight=\"0\" marginwidth=\"0\">\n",
      "<script language=\"JavaScript\" src=\"http://www.zdnet.com/include/ads/js/RGROUP=2560\">\n",
      "</script>\n",
      "</iframe>\n",
      "\n",
      "<!-- /insert ad here -->\n",
      "<br>\n",
      "\n",
      "\n",
      "\n",
      "<!-- Most Popular -->\n",
      "\n",
      "\n",
      "\n",
      "\n",
      "\t\t\t\t\n",
      "\n",
      "<!-- /Most Popular -->\n",
      "\n",
      "\n",
      "<!-- Vertical Brick -->\n",
      " <IMG alt=\"Also from CNET\" height=20 src=\"http://home.cnet.com/Ads/Media/Images/RHC_ALSOfromCNETnet.gif\" width=150 NOSEND=\"1\"><BR>\n",
      "<TABLE border=0 cellPadding=2 cellSpacing=0 width=150><TBODY><TR vAlign=top>\n",
      "<TD><FONT face=\"arial, helvetica\" size=-1><B>\n",
      "\n",
      "<a href=\"http://clickthru.online.com/Click?q=0e--eOTIiQzh-iW43J4r8dJx98lbKRR\" >Live tech help NOW!</a><p> \n",
      "<a href=\"http://clickthru.online.com/Click?q=23-sFcGINM80tP2JITiAv2Y9ZZvQKFR\" >April's tech award</a><p>  \n",
      "<a href=\"http://clickthru.online.com/Click?q=38-bLkmIRM2Lk0NNk6nhJiSUxuD-D9R\" >1 million open jobs</a><p> \n",
      "<a href=\"http://clickthru.online.com/Click?q=4e-0Y95InZA4ZVmYVkIKlsTn8N_JjiR\" >News.com: Top CIOs</a> <p> \n",
      "<a href=\"http://clickthru.online.com/Click?q=63-tPKjIHWSs6_XkQCg_9-hwkp_WElR\" >ZDNet: PeopleSoft </a> \n",
      "\n",
      "</B></FONT></TD>\n",
      "</TR></TBODY></TABLE></P>\n",
      "<!-- End Vertical Brick-->\n",
      "\n",
      "\n",
      "\n",
      "\t\t\t\t\n",
      "<!-- End Vertical Brick-->\n",
      "\t\t\t\t\t<td width=9 rowspan=2><img src=\"http://www.cnet.com/i/nl/dd_c.gif\" width=9 height=60><br>\n",
      "\n",
      "\t\t\t\t\t\t<table width=9 cellpadding=0 cellspacing=0 border=0>\n",
      "\t\t\t\t\t\t\t<tr>\n",
      "\t\t\t\t\t\t\t\t<td bgcolor=\"#666666\"><img src=\"http://www.cnet.com/b.gif\" width=9 height=1></td>\n",
      "\t\t\t\t\t\t\t</tr>\n",
      "\t\t\t\t\t\t\t<tr>\n",
      "\t\t\t\t\t\t\t\t<td bgcolor=\"#CCCCCC\"><img src=\"http://www.cnet.com/b.gif\" width=1 height=10></td>\n",
      "\t\t\t\t\t\t\t</tr>\n",
      "\t\t\t\t\t\t\t<tr>\n",
      "\t\t\t\t\t\t\t\t<td bgcolor=\"#666666\"><img src=\"http://www.cnet.com/b.gif\" width=9 height=1></td>\n",
      "\t\t\t\t\t\t\t</tr>\n",
      "\t\t\t\t\t\t</table>\n",
      "\t\t\t\t\t</td>\n",
      "\t\t\t\t\t<td width=1 bgcolor=\"#666666\" rowspan=2>\n",
      "\t\t\t\t\t\t<table width=1 cellpadding=0 cellspacing=0 border=0>\n",
      "\t\t\t\t\t\t\t<tr>\n",
      "\t\t\t\t\t\t\t\t<td bgcolor=\"#eeeeee\"><img src=\"http://www.cnet.com/b.gif\" width=1 height=60></td>\n",
      "\t\t\t\t\t\t\t</tr>\n",
      "\t\t\t\t\t\t</table>\n",
      "\t\t\t\t\t</td>\n",
      "\t\t\t\t</tr>\n",
      "\t\t\t\t<tr valign=top>\n",
      "\t\t\t\t\t<td width=1 bgcolor=\"#999999\"><img src=\"http://www.cnet.com/b.gif\" width=1 height=1></td>\n",
      "\t\t\t\t\t<td width=1 bgcolor=\"#666666\"><img src=\"http://www.cnet.com/b.gif\" width=1 height=1></td>\n",
      "\t\t\t\t\t<td width=9 bgcolor=\"#CCCCCC\"><img src=\"http://www.cnet.com/b.gif\" width=9 height=1></td>\n",
      "\t\t\t\t\t<td width=1 bgcolor=\"#666666\"><img src=\"http://www.cnet.com/b.gif\" width=1 height=1></td>\n",
      "\t\t\t\t\t<td width=410 bgcolor=\"#ffffff\">\n",
      "\n",
      "\t\t\t\t\t\t\n",
      "\n",
      "\t\t\t\t\t\t\n",
      "\n",
      "\t\t\t\t\t\t<table cellpadding=0 cellspacing=0 border=0 width=430 bgcolor=\"#EEEEEE\">\n",
      "\t\t\t\t\t\t\t<tr valign=top>\n",
      "\t\t\t\t\t\t\t\t<td width=10></td>\n",
      "<!-- Date -->\n",
      "\t\t\t\t\t\t\t\t<td>\n",
      "\t\t\t\t\t\t\t\t\t\n",
      "\t\t\t\n",
      "\t\t\t\t\t\t\t\t\t<table cellpadding=0 cellspacing=0 border=0 width=400>\n",
      "\t\t\t\t\t\t\t\t\t\t<tr>\n",
      "\t\t\t\t\t\t\t\t\t\t\t<td><img src=\"http://www.cnet.com/b.gif\" width=1 height=6></td>\n",
      "\t\t\t\t\t\t\t\t\t\t</tr>\n",
      "\t\t\t\t\t\t\t\t\t\t<tr valign=top>\n",
      "\t\t\t\t\t\t\t\t\t\t\t<td width=10><img src=\"http://www.cnet.com/b.gif\" width=10 height=1></td>\n",
      "\t\t\t\t\t\t\t\t\t\t\t<td align=right width=400><img src=\"http://www.cnet.com/b.gif\"><br>\n",
      "\t\t\t\t\t\t\t\t\t\t\t<font face=\"arial, helvetica\" size=\"-2\">July 9, 2002</font></td>\n",
      "\t\t\t\t\t\t\t\t\t\t\n",
      "\t\t\t\t\t\t\t\t\t\t\t\n",
      "\t\t\t\t\t\t\t\t\t\t<tr valign=top>\n",
      "<!--c4s-->\t\t\t\t\t\t\t\t\t<td><A href=\"#c4s\"><img src=\"http://www.cnet.com/i/nl/arr.gif\" width=10 height=12\t\t\t\t\t\t\t\t\t\t\t\t\t\tborder=0></A></td>\n",
      "\t\t\t\t\t\t\t\t\t\t\t<td><font face=\"arial, helvetica\" size=\"-1\"><A href=\"#c4s\"><b>From Computers4Sure</b></A><BR>Save an extra $50 on the iPaq 3835 PDA.</font></td>\n",
      "\t\t\t\t\t\t\t\t\t\t</tr>\n",
      "\t\t\t\t\t\t\t\t\t\t<tr>\n",
      "\t\t\t\t\t\t\t\t\t\t\t<td><img src=\"http://www.cnet.com/b.gif\" width=1 height=4></td>\n",
      "\t\t\t\t\t\t\t\t\t\t</tr>\n",
      "<!--dell-->\t\t\t\t\t\t\t<td><img src=\"http://www.cnet.com/b.gif\" width=1 height=4></td>\n",
      "\t\t\t\t\t\t\t\t\t\t</tr>\n",
      "\t\t\t\t\t\t\t\t\t\t<tr valign=top>\n",
      "\t\t\t\t\t\t\t\t\t\t\t<td><A href=\"#dell\"><img src=\"http://www.cnet.com/i/nl/arr.gif\" width=10 height=12 border=0></A></td>\n",
      "\t\t\t\t\t\t\t\t\t\t\t<td><font face=\"arial, helvetica\" size=\"-1\"><A href=\"#dell\"><b>From Dell</b></A> <BR>Enter to win your chance to win $50,000 from Dell!</font></td>\n",
      "\t\t\t\t\t\t\t\t\t\t</tr>\n",
      "\t\t\t\t\t\t\t\t\t\t<tr>\n",
      "\t\t\t\t\t\t\t\t\t\t\t<td><img src=\"http://www.cnet.com/b.gif\" width=1 height=6></td>\n",
      "\t\t\t\t\t\t\t\t\t\t</tr>\n",
      "\t\t\t\t\t\t\t\t</table>\n",
      "\t\t\t\t\t\n",
      "\t\t\t\t\t\t\t\t<table cellpadding=0 cellspacing=0 border=0 width=410>\n",
      "\t\t\t\t\t\t\t\t\t<tr>\n",
      "\t\t\t\t\t\t\t\t\t\t<td><img src=\"http://www.cnet.com/b.gif\" width=1 height=8></td>\n",
      "\t\t\t\t\t\t\t\t\t</tr>\n",
      "\n",
      "\n",
      "\t\t\t\t\t\t\t\t</table>\n",
      "\t\t\t\t\t\t\t</td>\n",
      "\t\t\t\t\t\t</tr>\n",
      "\t\t\t\t\t</table>\n",
      "\t\t\t\t\t<table cellpadding=0 cellspacing=0 border=0 width=430>\n",
      "\t\t\t\t\t\t<tr>\n",
      "\t\t\t\t\t\t\t<td bgcolor=\"#999999\"><img src=\"http://www.cnet.com/b.gif\" width=1 height=1></td>\n",
      "\t\t\t\t\t\t</tr>\n",
      "\t\t\t\t\t\t\n",
      "\t\t\t\t\t</table>\n",
      "<br>\n",
      "<div style=\"MARGIN-LEFT: 10px; MARGIN-RIGHT: 10px\">\n",
      "\n",
      "\n",
      "\n",
      "<!-- C4S TEMPLATE -->\n",
      "<a name=\"c4s\">\n",
      "\t\t\t\t\t<table cellpadding=\"0\" cellspacing=\"0\" border=0 width=\"410\">\n",
      "\t\t\t\t\t\t<TBODY>\n",
      "\t\t\t\t\t\t\t<tr>\n",
      "\t\t\t\t\t\t\t\t<td valign=bottom><font face=\"arial, helvetica\" size=\"3\"><b>Computers4Sure</b></font></td>\n",
      "\t\t\t\t\t\t\t\t<td>\n",
      "\t\t\t\t\t\t\t\t\t<P align=right>\t\n",
      "\t\t\t\t\t\t\t\t\t\t<img style=\"border: #CCCCCC solid 1px;\" src=\"http://shopper.cnet.com/Images/Resellers/Premier/235579.gif\"\"></P>\n",
      "\t\t\t\t\t\t\t\t</td>\n",
      "\t\t\t\t\t\t\t</tr>\n",
      "\t\t\t\t\t\t\t<tr>\n",
      "\t\t\t\t\t\t\t\t<td bgcolor=\"#eeeeee\"> <img src=\"http://www.cnet.com/i/nl/rule.gif\" width=205 height=8></td>\n",
      "\t\t\t\t\t\t\t\t<td bgcolor=\"#eeeeee\"> <img src=\"http://www.cnet.com/i/nl/rule.gif\" width=205 height=8></td>\n",
      "\t\t\t\t\t\t\t</tr>\n",
      "\t\t\t\t\t\t</TBODY>\n",
      "\t\t\t\t\t</table>\n",
      "\n",
      "\t\t\t\t\t\t\n",
      "\n",
      "<!-- Intro Blurb -->\n",
      "\t\t\t\t\t\t<table cellpadding=0 cellspacing=0 border=0 width=400 align=left>\n",
      "\t\t\t\t\t\t\t<tr>\n",
      "\t\t\t\t\t\t\t\t<td width=\"410\" colspan=\"4\">\n",
      "\t\t\t\t\t\t\t\t\t<font face=\"arial, helvetica\" size=\"-1\" >\n",
      "\t\t\t\t\t\t\t\t\n",
      "\t\t\t\t\t\t\t\t</td>\n",
      "\t\t\t\t\t\t\t</tr>\n",
      "\t\t\t\t\t\t\t<tr>\n",
      "\t\t\t\t\t\t\t\t<td width=\"400\" colspan=\"4\"><img src=\"http://www.cnet.com/b.gif\" width=1 height=8></td>\n",
      "\t\t\t\t\t\t\t</tr>\n",
      "\t\t\t\t\t\t\n",
      "<!-- Product 1 -->\n",
      "\n",
      "\t\t\t\t\t\t\t<tr valign=\"top\">\n",
      "\t\t\t\t\t\t\t\t<td width=\"120\">\n",
      "\t\t\t\t\t\t\t\t\t<a href=\"http://clickthru.online.com/Click?q=78-d5asIdUDxAS0WI95vnMUN5xspo4R\" ><img style=\"border: #CCCCCC solid 1px;\" src=\"http://shopper.cnet.com/i/co/ps/120/7934746_120_1.gif\"></a></td>\n",
      "\n",
      "\t\t\t\t\t\t\t\t\n",
      "\t\t\t\t\t\t\t\t<td width=\"10\"><img src=\"http://www.cnet.com/b.gif\" width=10 height=1></td>\n",
      "\t\t\t\t\t\t\t\t<td width=270 colspan=\"2\">\n",
      "\t\t\t\t\t\t\t\t<font face=\"arial, helvetica\" size=\"-1\" >\n",
      "\t\t\t\t\t\t\t\t<a href=\"http://clickthru.online.com/Click?q=8d-nbL1Q7no5iCfsTxIiSupcptbPMuR\" ><B>iPaq 3835 Pocket PC </b></a> <BR>\n",
      "\t\t\t\t\t\t\t \n",
      "\t\t\t\t\t\t\t\t&#149; $50 rebate <BR> \n",
      "&#149; 64 MB, brilliant TFT screen<BR>\n",
      "&#149; 206 MHz Intel processor<BR>\n",
      "\t\t\t\t\t\t\t\t&nbsp;&nbsp;<B>Just <font color=\"#CC0000\">$549</font> after rebate</B>\n",
      "\t\t\t\t\t\t\t\t</td>\n",
      "\t\t\t\t\t\t\t</tr>\n",
      "\t\t\t\t\t\t\t<tr>\n",
      "\t\t\t\t\t\t\t\t<td width=\"400\" colspan=\"4\"><img src=\"http://www.cnet.com/b.gif\" width=1 height=12></td>\n",
      "\t\t\t\t\t\t\t</tr>\t\t\t\t\t\t\n",
      "<!-- Product 2 -->\n",
      "\t\t\t\t\t\t\t<tr valign=top>\n",
      "\t\t\t\t\t\t\t\t<td width=120>\n",
      "\t\t\t\t\t\t\t\t\t<a href=\"http://clickthru.online.com/Click?q=a2-6-M7QXZxT7j3ipb9R0CGk_HtsosR\" ><img style=\"border: #CCCCCC solid 1px;\" src=\"http://shopper.cnet.com/i/ce/ps/120/8866992_120_1.gif\"></a></td>\n",
      "\n",
      "\t\t\t\t\t\t\t\t<td width=\"10\"><img src=\"http://www.cnet.com/b.gif\" width=10 height=1></td>\n",
      "\t\t\t\t\t\t\t\t\n",
      "\t\t\t\t\t\t\t\t<td width=270 colspan=\"2\">\n",
      "\t\t\t\t\t\t\t\t<font face=\"arial, helvetica\" size=\"-1\" >\n",
      "\t\t\t\t\t\t\t\t<a href=\"http://clickthru.online.com/Click?q=b7-FOgPQ8JxgI4elI70NpbnpTbdL3ZR\" ><B>Cyber-shot Digital Camera DSC-P51</b></a><BR>\n",
      "\t\t\t\t\t\t\t\t&#149; Free shipping<BR>\n",
      "\t\t\t\t\t\t\t\t&#149; 2-megapixels, 1280x960 res.<BR>\n",
      "\t\t\t\t\t\t\t\t&#149; 2x optical zoom/3x digital zoom<BR>\n",
      "\t\t\t\t\t\t\t\t&nbsp;&nbsp;<B>Just <font color=\"#CC0000\">$300</font></B>\n",
      "\t\t\t\t\t\t\t\t</td>\n",
      "\t\t\t\t\t\t\t</tr>\n",
      "\t\t\t\t\t\t\t<tr>\n",
      "\t\t\t\t\t\t\t\t<td width=\"400\" colspan=\"4\"><img src=\"http://www.cnet.com/b.gif\" width=1 height=12></td>\n",
      "\t\t\t\t\t\t\t</tr>\n",
      "\t\n",
      "<!-- Product 3 -->\n",
      "\t\t\t\t\t\t\t<tr valign=top>\n",
      "\t\t\t\t\t\t\t\t\t<td width=120>\n",
      "\t\t\t\t\t\t\t\t\t<a href=\"http://clickthru.online.com/Click?q=cc-h4fQQ0Oqt0jNqO_7qeZDozn6f5dR\" ><img style=\"border: #CCCCCC solid 1px;\" src=\"http://shopper.cnet.com/i/co/ps/120/7767019_120_1.gif\" width=120 height=90></a></td>\n",
      "\n",
      "\t\t\t\t\t\t\t\t<td width=\"10\"><img src=\"http://www.cnet.com/b.gif\" width=10 height=1></td>\n",
      "\t\t\t\t\t\t\t\t\n",
      "\t\t\t\t\t\t\t\t<td width=270 colspan=\"2\">\n",
      "\t\t\t\t\t\t\t\t<font face=\"arial, helvetica\" size=\"-1\" >\n",
      "\t\t\t\t\t\t\t\t<a href=\"http://clickthru.online.com/Click?q=e1-6RvNQxk2W7kyO-ZPhsYK3Awi9qcR\" ><B>Maxtor DiamondMax D540X 160GB</b></a><BR>\n",
      "\t\t\t\t\t\t\t\t&#149; Outstanding capacity & value<BR>\n",
      "\t\t\t\t\t\t\t\t&#149; 2MB buffer, Avg. Seek 12ms <BR>\n",
      "\t\t\t\t\t\t\t\t&#149; 5400 RPM, Ultra ATA/133 <BR>\n",
      "\t\t\t\t\t\t\t    &nbsp;&nbsp;<B>Just <font color=\"#CC0000\">$260</font></B>\n",
      "\t\t\t\t\t\t\t\t</td>\n",
      "\t\t\t\t\t\t\t</tr>\n",
      "\t\t\t\t\t\t\t<tr>\n",
      "\t\t\t\t\t\t\t\t<td width=\"400\" colspan=\"4\"><img src=\"http://www.cnet.com/b.gif\" width=1 height=12></td>\n",
      "\t\t\t\t\t\t\t</tr>\n",
      "\t\t\n",
      "\n",
      "\t\t\t\t\t\t</table>\t\n",
      "\t\t<p>\t<BR CLEAR=ALL>\t\n",
      "\n",
      "\n",
      "<!-- center ad -->\n",
      "<P>\n",
      "\t\t\n",
      "<P>\n",
      "<!-- /center ad -->\n",
      "\n",
      "\n",
      "<!-- buy.com TEMPLATE -->\n",
      "<a name=\"dell\">\n",
      "\t\t\t\t\t<table cellpadding=\"0\" cellspacing=\"0\" border=0 width=\"410\">\n",
      "\t\t\t\t\t\t<TBODY>\n",
      "\t\t\t\t\t\t\t<tr>\n",
      "\t\t\t\t\t\t\t\t<td valign=bottom><font face=\"arial, helvetica\" size=\"3\"><b>Dell</b></font></td>\n",
      "\t\t\t\t\t\t\t\t<td>\n",
      "\t\t\t\t\t\t\t\t\t<P align=right>\t\n",
      "\t\t\t\t\t\t\t\t\t\t<img style=\"border: #CCCCCC solid 1px;\" src=\"http://shopper.cnet.com/Images/Resellers/Premier/235085.gif\"\"></P>\n",
      "\t\t\t\t\t\t\t\t</td>\n",
      "\t\t\t\t\t\t\t</tr>\n",
      "\t\t\t\t\t\t\t<tr>\n",
      "\t\t\t\t\t\t\t\t<td bgcolor=\"#eeeeee\"> <img src=\"http://www.cnet.com/i/nl/rule.gif\" width=205 height=8></td>\n",
      "\t\t\t\t\t\t\t\t<td bgcolor=\"#eeeeee\"> <img src=\"http://www.cnet.com/i/nl/rule.gif\" width=205 height=8></td>\n",
      "\t\t\t\t\t\t\t</tr>\n",
      "\t\t\t\t\t\t</TBODY>\n",
      "\t\t\t\t\t</table>\n",
      "\n",
      "\t\t\t\t\t\t\n",
      "\n",
      "<!-- Intro Blurb -->\n",
      "\t\t\t\t\t\t<table cellpadding=0 cellspacing=0 border=0 width=400 align=left>\n",
      "\t\t\t\t\t\t\t<tr>\n",
      "\t\t\t\t\t\t\t\t<td width=\"410\" colspan=\"4\">\n",
      "\t\t\t\t\t\t\t\t\t<font face=\"arial, helvetica\" size=\"-1\" >\n",
      "\t\t\t\t\t\t\t\t\n",
      "\t\t\t\t\t\t\t\t</td>\n",
      "\t\t\t\t\t\t\t</tr>\n",
      "\t\t\t\t\t\t\t<tr>\n",
      "\t\t\t\t\t\t\t\t<td width=\"400\" colspan=\"4\"><img src=\"http://www.cnet.com/b.gif\" width=1 height=8></td>\n",
      "\t\t\t\t\t\t\t</tr>\n",
      "\t\t\t\t\t\t\t<tr>\n",
      "\t\t\t\t\t\t\t\t<td width=\"400\" colspan=\"4\"><font face=\"arial, helvetica\" size=\"-1\" >$50K-a-day Giveaway from Dell Home Systems. . .\n",
      "Buy any new Dell Home System on or before July 31, 2002 and you'll\n",
      "be automatically entered to win $50,000. The next lucky winner\n",
      "could be you!\n",
      "<BR>\n",
      "<a href=\"http://clickthru.online.com/Click?q=f7-N0QnQLgzok01r_OlrZIGiR6ImOZR\" ><B>More rules and info</b></a>\n",
      "\n",
      "\n",
      "</td>\n",
      "\t\t\t\t\t\t\t</tr>\n",
      "\t\t\t\t\t\t\t<tr>\n",
      "\t\t\t\t\t\t\t\t<td width=\"400\" colspan=\"4\"><img src=\"http://www.cnet.com/b.gif\" width=1 height=12></td>\n",
      "\t\t\t\t\t\t\t</tr>\n",
      "\t\t\t\t\t\t\n",
      "<!-- Product 1 -->\n",
      "\n",
      "\t\t\t\t\t\t\t<tr valign=\"top\">\n",
      "\t\t\t\t\t\t\t\t<td width=\"120\">\n",
      "\t\t\t\t\t\t\t\t\t<a href=\"http://clickthru.online.com/Click?q=0c-_Y3DIc8HTgm-00VWDjP2qJ13b4dR\" ><img style=\"border: #CCCCCC solid 1px;\" src=\"http://shopper.cnet.com/i/co/ps/120/8582529_120_1.gif\"></a></td>\n",
      "\n",
      "\t\t\t\t\t\t\t\t\n",
      "\t\t\t\t\t\t\t\t<td width=\"10\"><img src=\"http://www.cnet.com/b.gif\" width=10 height=1></td>\n",
      "\t\t\t\t\t\t\t\t<td width=270 colspan=\"2\">\n",
      "\t\t\t\t\t\t\t\t<font face=\"arial, helvetica\" size=\"-1\" >\n",
      "\t\t\t\t\t\t\t\t<a href=\"http://clickthru.online.com/Click?q=21-UPROIjdDVciVaQ1oQqYoj1cTQ4cR\" ><B>Dell Dimension 4000 series</b></a> <BR>\n",
      "\t\t\t\t\t\t\t\t&#149; 1.7 GHz to 2.53 GHz P4<BR>\n",
      "\t\t\t\t\t\t\t\t&#149; 128 MB to 1 GB RAM<BR>\n",
      "\t\t\t\t\t\t\t\t&#149; Up to 120 GB hard drive<BR>\n",
      "\t\t\t\t \n",
      "\t\t\t\t\t\t\t\t&nbsp;&nbsp;<B>Starting at <font color=\"#CC0000\">$689</font></B>\n",
      "\t\t\t\t\t\t\t\t</td>\n",
      "\t\t\t\t\t\t\t</tr>\n",
      "\t\t\t\t\t\t\t<tr>\n",
      "\t\t\t\t\t\t\t\t<td width=\"400\" colspan=\"4\"><img src=\"http://www.cnet.com/b.gif\" width=1 height=12></td>\n",
      "\t\t\t\t\t\t\t</tr>\t\t\t\t\t\t\n",
      "<!-- Product 2 -->\n",
      "\t\t\t\t\t\t\t<tr valign=top>\n",
      "\t\t\t\t\t\t\t\t<td width=120>\n",
      "\t\t\t\t\t\t\t\t\t<a href=\"http://clickthru.online.com/Click?q=36-wg7-IiI4ohONo2QMxvH3QainXQRR\" ><img style=\"border: #CCCCCC solid 1px;\" src=\"http://shopper.cnet.com/i/co/ps/120/8582671_120_1.gif\"></a></td>\n",
      "\n",
      "\t\t\t\t\t\t\t\t<td width=\"10\"><img src=\"http://www.cnet.com/b.gif\" width=10 height=1></td>\n",
      "\t\t\t\t\t\t\t\t\n",
      "\t\t\t\t\t\t\t\t<td width=270 colspan=\"2\">\n",
      "\t\t\t\t\t\t\t\t<font face=\"arial, helvetica\" size=\"-1\" >\t\n",
      "\t\t\t\t\t\t\t\t<a href=\"http://clickthru.online.com/Click?q=4b-k_l7IBUPP_hrTR6P9VA35c54JMlR\" ><B>Dell Dimension 8000 series</b></a><BR>\n",
      "\t\t\t\t\t\t\t\t&#149; 1.8 GHz to 2.53 GHz P4<BR>\n",
      "\t\t\t\t\t\t\t\t&#149; 128 MB to 2 GB RAM<BR>\n",
      "\t\t\t\t\t\t\t\t&#149; Up to 120 GB hard drive<BR>\n",
      "\t\t\t\t\t\t\t \n",
      "\t\t\t\t\t\t\t\t&nbsp;&nbsp;<B>Starting at <font color=\"#CC0000\">$919</font></B>\n",
      "\t\t\t\t\t\t\t\t</td>\n",
      "\t\t\t\t\t\t\t</tr>\n",
      "\t\t\t\t\t\t\t<tr>\n",
      "\t\t\t\t\t\t\t\t<td width=\"400\" colspan=\"4\"><img src=\"http://www.cnet.com/b.gif\" width=1 height=12></td>\n",
      "\t\t\t\t\t\t\t</tr>\n",
      "\t\n",
      "<!-- Product 3 -->\n",
      "\t\t\t\t\t\t\n",
      "\t\t\t\t\t\t</table>\t\n",
      "\t\t<p>\t<BR CLEAR=ALL>\t\t \n",
      "\n",
      "\n",
      "<BR>\n",
      "<BR>\n",
      "\n",
      "<p>\n",
      "</p></font></FONT></FONT></FONT></FONT></DIV></FONT></FONT></FONT></TD></TR></TBODY></TABLE>\n",
      "\n",
      "<!-- ### footer ### -->\n",
      "<table width=\"612\" bgcolor=\"#666666\" cellpadding=\"0\" cellspacing=\"0\" border=\"0\">\n",
      "<tr>\n",
      "<td width=\"1\"><img src=\"http://www.cnet.com/b.gif\" width=\"1\" height=\"1\"></td>\n",
      "<td width=\"10\" bgcolor=\"#CCCCCC\"><img src=\"http://www.cnet.com/b.gif\" width=\"10\" height=\"1\"></td>\n",
      "<td width=\"1\"><img src=\"http://www.cnet.com/b.gif\" width=\"1\" height=\"1\"></td>\n",
      "<td width=\"599\" bgcolor=\"#cccccc\"><img src=\"http://www.cnet.com/b.gif\" width=\"1\" height=\"1\"></td>\n",
      "<td width=\"1\"><img src=\"http://www.cnet.com/b.gif\" width=\"1\" height=\"1\"></td></tr>\n",
      "</table>\n",
      "<table width=\"612\" bgcolor=\"#666666\" cellpadding=\"0\" cellspacing=\"0\" border=\"0\">\n",
      "<tr>\n",
      "<td width=\"1\" bgcolor=\"#999999\"><img src=\"http://www.cnet.com/b.gif\" width=\"1\" height=\"1\"></td>\n",
      "<td width=\"1\" bgcolor=\"#666666\"><img src=\"http://www.cnet.com/b.gif\" width=\"1\" height=\"1\"></td>\n",
      "<td width=\"9\" bgcolor=\"#CCCCCC\"><img src=\"http://www.cnet.com/b.gif\" width=\"9\" height=\"1\"></td>\n",
      "<td width=\"1\" bgcolor=\"#666666\"><img src=\"http://www.cnet.com/b.gif\" width=\"1\" height=\"1\"></td>\n",
      "<td width=\"599\" bgcolor=\"#EEEEEE\"><img src=\"http://www.cnet.com/b.gif\" width=\"1\" height=\"4\"></td>\n",
      "<td width=\"1\"><img src=\"http://www.cnet.com/b.gif\" width=\"1\" height=\"1\"></td></tr>\n",
      "</table>\n",
      "<table width=\"612\" bgcolor=\"#EEEEEE\" cellpadding=\"0\" cellspacing=\"0\" border=\"0\">\n",
      "<tr>\n",
      "<td width=\"1\" bgcolor=\"#999999\"><img src=\"http://www.cnet.com/b.gif\" width=\"1\" height=\"1\"></td>\n",
      "<td width=\"1\" bgcolor=\"#666666\"><img src=\"http://www.cnet.com/b.gif\" width=\"1\" height=\"1\"></td>\n",
      "<td width=\"9\" bgcolor=\"#CCCCCC\"><img src=\"http://www.cnet.com/b.gif\" width=\"9\" height=\"1\"></td>\n",
      "<td width=\"1\" bgcolor=\"#666666\"><img src=\"http://www.cnet.com/b.gif\" width=\"1\" height=\"1\"></td>\n",
      "<td width=\"12\"><img src=\"http://www.cnet.com/b.gif\" width=\"12\" height=\"1\"></td>\n",
      "<td width=\"575\">\n",
      "<a href='http://nl.com.com/servlet/url_login?email=qqqqqqqqqq-cnet-newsletters@example.com&brand=cnet'><img src=\"http://a.r.tv.com/cnet.1d/i/nl/ft.gif\" width=\"375\" height=\"18\" border=\"0\" alt=\"Sign up for more free newsletters from CNET!\"></a><br>\n",
      "\n",
      "\n",
      "<!-- subscription management -->\n",
      "\n",
      "<font face=\"ms sans serif, geneva\" size=\"-2\">\n",
      "The e-mail address for your subscription is&nbsp;qqqqqqqqqq-cnet-newsletters@example.com<p>\n",
      "\n",
      "<A NOTRACK HREF='http://clickthru.online.com/Click?q=61-x9GAz2Lat_TSiZbSKkrzTGSlEPChIsRR'>Unsubscribe</A>&nbsp;|\n",
      "&nbsp;<a href='http://nl.com.com/servlet/url_login?email=qqqqqqqqqq-cnet-newsletters@example.com&brand=cnet'>Manage My Subscriptions</a>\n",
      "&nbsp;|&nbsp;<a href=\"http://clickthru.online.com/Click?q=76-vJf7InBP3_R0CUR1okYP2r70U6iR\" >FAQ</A>&nbsp;|\n",
      "&nbsp;<a href=\"http://clickthru.online.com/Click?q=8b-SBGBQY0y_jjfYkxEYIEElDh4B1FR\" >Advertise</A><br></font>\n",
      "\n",
      "<!-- /subscription management-->\n",
      "\n",
      "</font><img src=\"http://www.zdnet.com/b.gif\" width=\"1\" height=\"8\"></td>\n",
      "<td width=\"12\"><img src=\"http://www.cnet.com/b.gif\" width=\"12\" height=\"1\"></td>\n",
      "<td width=\"1\" bgcolor=\"#666666\"><img src=\"http://www.cnet.com/b.gif\" width=\"1\" height=\"1\"></td></tr>\n",
      "</table>\n",
      "<table width=\"612\" bgcolor=\"#666666\" cellpadding=\"0\" cellspacing=\"0\" border=\"0\">\n",
      "<tr>\n",
      "<td width=\"1\" bgcolor=\"#999999\"><img src=\"http://www.cnet.com/b.gif\" width=\"1\" height=\"1\"></td>\n",
      "<td width=\"1\"><img src=\"http://www.cnet.com/b.gif\" width=\"1\" height=\"1\"></td>\n",
      "<td width=\"9\" bgcolor=\"#CCCCCC\"><img src=\"http://www.cnet.com/b.gif\" width=\"9\" height=\"1\"></td>\n",
      "<td width=\"601\"><img src=\"http://www.cnet.com/b.gif\" width=\"1\" height=\"1\"></td></tr>\n",
      "</table>\n",
      "<table width=\"612\" bgcolor=\"#CCCCCC\" cellpadding=\"0\" cellspacing=\"0\" border=\"0\">\n",
      "<tr height=\"18\">\n",
      "<td width=\"1\" bgcolor=\"#999999\"><img src=\"http://www.cnet.com/b.gif\" width=\"1\" height=\"1\"></td>\n",
      "<td width=\"1\" bgcolor=\"#666666\"><img src=\"http://www.cnet.com/b.gif\" width=\"1\" height=\"1\"></td>\n",
      "<td width=\"9\"><img src=\"http://www.cnet.com/b.gif\" width=\"9\" height=\"1\"></td>\n",
      "<td width=\"563\" nowrap><font face=\"arial, helvetica\" size=\"-1\">\n",
      "</font></td>\n",
      "<td width=\"1\" bgcolor=\"#666666\"><img src=\"http://www.cnet.com/b.gif\" width=\"1\" height=\"1\"></td></tr>\n",
      "</table>\n",
      "<table width=\"612\" cellpadding=\"0\" cellspacing=\"0\" border=\"0\">\n",
      "<tr><td bgcolor=\"#666666\"><img src=\"http://www.cnet.com/b.gif\" width=\"1\" height=\"1\"></td></tr>\n",
      "<tr><td height=\"25\"><font face=\"ms sans serif, geneva\" size=\"-2\"><table width=100% border=0 cellspacing=2 cellpadding=1> <tr valign=bottom> <td width=75% height=31> <p></font> <br><b><font face=Arial, Helvetica, sans-serif size=2>    Copyright 2002 CNET Networks, Inc. All rights reserved.    </font></b> </p></td><td height=31 valign=top> <div align=right> <img src=\"http://gserv-cnet.zdnet.com/clear/outbound.gif?APPID=2&EMID=25136487&NL=e443&ISSUE=2002-07-09\" height=1 width=1>    </div></td></tr><tr>  <td colspan=2><font face=Arial, Helvetica, sans-serif size=2>    </font></td></tr></table></a>.</font></td></tr>\n",
      "</table>\n",
      "<!-- ### /footer ### -->\n",
      "\n",
      "</body>\n",
      "</html>\n",
      "\n",
      "<IMG HEIGHT=1 WIDTH=1 SRC=\"http://clickthru.online.com/Click?q=a0-11f8-fB6N35HwGddp42g1eIvgdRR\">\n"
     ]
    }
   ],
   "source": [
    "print(ham_emails[1].get_content().strip())"
   ]
  },
  {
   "cell_type": "code",
   "execution_count": 93,
   "metadata": {},
   "outputs": [],
   "source": [
    "def get_email_structure(email):\n",
    "    if isinstance(email, str):\n",
    "        return email\n",
    "    payload = email.get_payload()\n",
    "    if isinstance(payload, list):\n",
    "        return \"multipart({})\".format(\", \".join([\n",
    "            get_email_structure(sub_email)\n",
    "            for sub_email in payload\n",
    "        ]))\n",
    "    else:\n",
    "        return email.get_content_type()"
   ]
  },
  {
   "cell_type": "code",
   "execution_count": 94,
   "metadata": {},
   "outputs": [],
   "source": [
    "from collections import Counter\n",
    "\n",
    "def structures_counter(emails):\n",
    "    structures = Counter()\n",
    "    for email in emails:\n",
    "        structure = get_email_structure(email)\n",
    "        structures[structure] += 1\n",
    "    return structures"
   ]
  },
  {
   "cell_type": "code",
   "execution_count": 95,
   "metadata": {},
   "outputs": [
    {
     "data": {
      "text/plain": [
       "[('text/html', 120),\n",
       " ('text/plain', 86),\n",
       " ('multipart(text/plain, text/html)', 38),\n",
       " ('multipart(text/html)', 2),\n",
       " ('multipart(text/plain, image/png, image/png)', 1),\n",
       " ('multipart(multipart(text/plain, text/html))', 1),\n",
       " ('multipart(text/plain, application/x-pkcs7-signature)', 1),\n",
       " ('multipart(text/plain, image/bmp)', 1)]"
      ]
     },
     "execution_count": 95,
     "metadata": {},
     "output_type": "execute_result"
    }
   ],
   "source": [
    "structures_counter(ham_emails).most_common()"
   ]
  },
  {
   "cell_type": "code",
   "execution_count": 96,
   "metadata": {},
   "outputs": [
    {
     "data": {
      "text/plain": [
       "[('text/plain', 218),\n",
       " ('text/html', 183),\n",
       " ('multipart(text/plain, text/html)', 45),\n",
       " ('multipart(text/html)', 20),\n",
       " ('multipart(text/plain)', 19),\n",
       " ('multipart(multipart(text/html))', 5),\n",
       " ('multipart(text/plain, image/jpeg)', 3),\n",
       " ('multipart(text/html, application/octet-stream)', 2),\n",
       " ('multipart(text/plain, application/octet-stream)', 1),\n",
       " ('multipart(text/html, text/plain)', 1),\n",
       " ('multipart(multipart(text/html), application/octet-stream, image/jpeg)', 1),\n",
       " ('multipart(multipart(text/plain, text/html), image/gif)', 1),\n",
       " ('multipart/alternative', 1)]"
      ]
     },
     "execution_count": 96,
     "metadata": {},
     "output_type": "execute_result"
    }
   ],
   "source": [
    "structures_counter(spam_emails).most_common()"
   ]
  },
  {
   "cell_type": "code",
   "execution_count": 97,
   "metadata": {},
   "outputs": [
    {
     "data": {
      "text/plain": [
       "'Life Insurance - Why Pay More?'"
      ]
     },
     "execution_count": 97,
     "metadata": {},
     "output_type": "execute_result"
    }
   ],
   "source": [
    "spam_emails[0][\"Subject\"]"
   ]
  },
  {
   "cell_type": "code",
   "execution_count": 98,
   "metadata": {},
   "outputs": [],
   "source": [
    "import numpy as np\n",
    "from sklearn.model_selection import train_test_split\n",
    "\n",
    "X = np.array(ham_emails + spam_emails)\n",
    "y = np.array([0] * len(ham_emails) + [1] * len(spam_emails))\n",
    "\n",
    "X_train, X_test, y_train, y_test = train_test_split(X, y, test_size=0.2, random_state=42)"
   ]
  },
  {
   "cell_type": "code",
   "execution_count": 99,
   "metadata": {},
   "outputs": [],
   "source": [
    "import re\n",
    "from html import unescape\n",
    "\n",
    "def html_to_plain_text(html):\n",
    "    text = re.sub('<head.*?>.*?</head>', '', html, flags=re.M | re.S | re.I)\n",
    "    text = re.sub('<a\\s.*?>', ' HYPERLINK ', text, flags=re.M | re.S | re.I)\n",
    "    text = re.sub('<.*?>', '', text, flags=re.M | re.S)\n",
    "    text = re.sub(r'(\\s*\\n)+', '\\n', text, flags=re.M | re.S)\n",
    "    return unescape(text)"
   ]
  },
  {
   "cell_type": "code",
   "execution_count": 100,
   "metadata": {},
   "outputs": [
    {
     "name": "stdout",
     "output_type": "stream",
     "text": [
      "Me and my friends have this brand new idea, a Live Webcam <a href=\"http://%31%30%31%31%30%31%31%31%30%31%31%31%31%30%31%30%31%30%31%30%31%30%31%31%31%30%31%30%31%30%31%30%31%30%31%30%31%30%31%30%31%30%31%31%30%31%30%31%30%31%30%31%30%31%30%31%30%31%30%31%30%31%31%30%31%30%31%31%30%31%30%31%30%31%30%31%30%31%30%31%30%31%30%31%30%31%30%31%30%31%31%30%31%30%31%30%31%30%31%30%31%30%31%30%31%30%31%31%30%30%30%31%30%31%31%30%31%31%31%30%31%30%31%30%31%30%31%30%31%30%30%30%31%31%30%31%30%31%30%31%31%30%31%30%31%30%31%30%31%31%30%31@%34%2E%34%37%2E%39%36%2E%31%34%31/msga.html\"> Click Here <a/>\n",
      "<br>\n",
      "<br>\n",
      "<br>\n",
      "<font size=\"1\">This is NOT SPAM - You have received this e-mail because \n",
      "at one time or another you entered the weekly draw at one of\n",
      "our portals or FFA sites. We comply with all proposed and current laws \n",
      "on commercial e-mail under (Bill s. 1618 TITLE III passed by the 105th \n",
      "Congress).\n",
      " If you have received this e-mail in error, we apologize for the \n",
      "inconvenience and ask that you remove ...\n"
     ]
    }
   ],
   "source": [
    "html_spam_emails = [email for email in X_train[y_train==1]\n",
    "                    if get_email_structure(email) == \"text/html\"]\n",
    "sample_html_spam = html_spam_emails[7]\n",
    "print(sample_html_spam.get_content().strip()[:1000], \"...\")"
   ]
  },
  {
   "cell_type": "code",
   "execution_count": 101,
   "metadata": {},
   "outputs": [
    {
     "name": "stdout",
     "output_type": "stream",
     "text": [
      "Me and my friends have this brand new idea, a Live Webcam  HYPERLINK  Click Here\n",
      "This is NOT SPAM - You have received this e-mail because\n",
      "at one time or another you entered the weekly draw at one of\n",
      "our portals or FFA sites. We comply with all proposed and current laws\n",
      "on commercial e-mail under (Bill s. 1618 TITLE III passed by the 105th\n",
      "Congress).\n",
      " If you have received this e-mail in error, we apologize for the\n",
      "inconvenience and ask that you remove yourself.\n",
      "Click   HYPERLINK Here to Unsubscribe\n",
      "fysibvcgjyuwinmyvbpjtaebsymyukbrkn\n",
      " ...\n"
     ]
    }
   ],
   "source": [
    "print(html_to_plain_text(sample_html_spam.get_content())[:1000], \"...\")"
   ]
  },
  {
   "cell_type": "code",
   "execution_count": 102,
   "metadata": {},
   "outputs": [],
   "source": [
    "def email_to_text(email):\n",
    "    html = None\n",
    "    for part in email.walk():\n",
    "        ctype = part.get_content_type()\n",
    "        if not ctype in (\"text/plain\", \"text/html\"):\n",
    "            continue\n",
    "        try:\n",
    "            content = part.get_content()\n",
    "        except: # in case of encoding issues\n",
    "            content = str(part.get_payload())\n",
    "        if ctype == \"text/plain\":\n",
    "            return content\n",
    "        else:\n",
    "            html = content\n",
    "    if html:\n",
    "        return html_to_plain_text(html)"
   ]
  },
  {
   "cell_type": "code",
   "execution_count": 103,
   "metadata": {},
   "outputs": [
    {
     "name": "stdout",
     "output_type": "stream",
     "text": [
      "Me and my friends have this brand new idea, a Live Webcam  HYPERLINK  Click Here\n",
      "This is NOT SPAM -  ...\n"
     ]
    }
   ],
   "source": [
    "print(email_to_text(sample_html_spam)[:100], \"...\")"
   ]
  },
  {
   "cell_type": "code",
   "execution_count": 104,
   "metadata": {},
   "outputs": [
    {
     "name": "stdout",
     "output_type": "stream",
     "text": [
      "Computations => comput\n",
      "Computation => comput\n",
      "Computing => comput\n",
      "Computed => comput\n",
      "Compute => comput\n",
      "Compulsive => compuls\n"
     ]
    }
   ],
   "source": [
    "try:\n",
    "    import nltk\n",
    "\n",
    "    stemmer = nltk.PorterStemmer()\n",
    "    for word in (\"Computations\", \"Computation\", \"Computing\", \"Computed\", \"Compute\", \"Compulsive\"):\n",
    "        print(word, \"=>\", stemmer.stem(word))\n",
    "except ImportError:\n",
    "    print(\"Error: stemming requires the NLTK module.\")\n",
    "    stemmer = None"
   ]
  },
  {
   "cell_type": "code",
   "execution_count": 105,
   "metadata": {},
   "outputs": [
    {
     "name": "stdout",
     "output_type": "stream",
     "text": [
      "['github.com', 'https://youtu.be/7Pq-S557XQU?t=3m32s']\n"
     ]
    }
   ],
   "source": [
    "try:\n",
    "    import urlextract # may require an Internet connection to download root domain names\n",
    "    \n",
    "    url_extractor = urlextract.URLExtract()\n",
    "    print(url_extractor.find_urls(\"Will it detect github.com and https://youtu.be/7Pq-S557XQU?t=3m32s\"))\n",
    "except ImportError:\n",
    "    print(\"Error: replacing URLs requires the urlextract module.\")\n",
    "    url_extractor = None"
   ]
  },
  {
   "cell_type": "code",
   "execution_count": 106,
   "metadata": {},
   "outputs": [],
   "source": [
    "from sklearn.base import BaseEstimator, TransformerMixin\n",
    "\n",
    "class EmailToWordCounterTransformer(BaseEstimator, TransformerMixin):\n",
    "    def __init__(self, strip_headers=True, lower_case=True, remove_punctuation=True,\n",
    "                 replace_urls=True, replace_numbers=True, stemming=True):\n",
    "        self.strip_headers = strip_headers\n",
    "        self.lower_case = lower_case\n",
    "        self.remove_punctuation = remove_punctuation\n",
    "        self.replace_urls = replace_urls\n",
    "        self.replace_numbers = replace_numbers\n",
    "        self.stemming = stemming\n",
    "    def fit(self, X, y=None):\n",
    "        return self\n",
    "    def transform(self, X, y=None):\n",
    "        X_transformed = []\n",
    "        for email in X:\n",
    "            text = email_to_text(email) or \"\"\n",
    "            if self.lower_case:\n",
    "                text = text.lower()\n",
    "            if self.replace_urls and url_extractor is not None:\n",
    "                urls = list(set(url_extractor.find_urls(text)))\n",
    "                urls.sort(key=lambda url: len(url), reverse=True)\n",
    "                for url in urls:\n",
    "                    text = text.replace(url, \" URL \")\n",
    "            if self.replace_numbers:\n",
    "                text = re.sub(r'\\d+(?:\\.\\d*(?:[eE]\\d+))?', 'NUMBER', text)\n",
    "            if self.remove_punctuation:\n",
    "                text = re.sub(r'\\W+', ' ', text, flags=re.M)\n",
    "            word_counts = Counter(text.split())\n",
    "            if self.stemming and stemmer is not None:\n",
    "                stemmed_word_counts = Counter()\n",
    "                for word, count in word_counts.items():\n",
    "                    stemmed_word = stemmer.stem(word)\n",
    "                    stemmed_word_counts[stemmed_word] += count\n",
    "                word_counts = stemmed_word_counts\n",
    "            X_transformed.append(word_counts)\n",
    "        return np.array(X_transformed)"
   ]
  },
  {
   "cell_type": "code",
   "execution_count": 107,
   "metadata": {},
   "outputs": [
    {
     "data": {
      "text/plain": [
       "array([Counter({'of': 30, 'to': 28, 'the': 28, 'and': 20, 'thi': 17, 'your': 14, 'in': 12, 'we': 12, 'a': 11, 'you': 11, 'number': 9, 'kabila': 9, 'congo': 8, 'countri': 8, 'is': 8, 'my': 8, 'us': 8, 'i': 7, 'presid': 7, 'assist': 6, 'out': 6, 'fund': 6, 'url': 5, 'by': 5, 'laurent': 5, 'our': 5, 'as': 5, 'will': 5, 'with': 5, 'from': 4, 'col': 4, 'democrat': 4, 'republ': 4, 'code': 4, 'inform': 4, 'that': 4, 'money': 4, 'secur': 4, 'for': 4, 'be': 4, 'who': 4, 'move': 4, 'are': 4, 'michael': 3, 'bundu': 3, 'no': 3, 'intl': 3, 'access': 3, 'email': 3, 'immedi': 3, 'pleas': 3, 'me': 3, 'need': 3, 'one': 3, 'hi': 3, 'were': 3, 'late': 3, 'then': 3, 'other': 3, 'here': 3, 'can': 3, 'have': 3, 'contact': 3, 'confidenti': 3, 'not': 3, 'through': 3, 'work': 3, 'dial': 3, 'tel': 2, 'so': 2, 'trust': 2, 'foreign': 2, 'partner': 2, 'may': 2, 'but': 2, 'indulg': 2, 'view': 2, 'it': 2, 'name': 2, 'aid': 2, 'bless': 2, 'militari': 2, 'rebel': 2, 'some': 2, 'state': 2, 'group': 2, 'privat': 2, 'when': 2, 'compani': 2, 'keep': 2, 'said': 2, 'follow': 2, 'son': 2, 'beneficiari': 2, 'under': 2, 'diplomat': 2, 'europ': 2, 'while': 2, 'ha': 2, 'sincer': 2, 'requir': 2, 'henc': 2, 'if': 2, 'address': 2, 'fax': 2, 'abov': 2, 'deal': 2, 'dear': 1, 'sir': 1, 'madam': 1, 'seek': 1, 'permit': 1, 'make': 1, 'acquaint': 1, 'manner': 1, 'necessit': 1, 'urgent': 1, 'reach': 1, 'depend': 1, 'worthi': 1, 'request': 1, 'seem': 1, 'strang': 1, 'unsolicit': 1, 'crave': 1, 'pray': 1, 'serious': 1, 'close': 1, 'former': 1, 'memori': 1, 'soul': 1, 'rest': 1, 'peac': 1, 'due': 1, 'campaign': 1, 'forc': 1, 'colleagu': 1, 'instruct': 1, 'go': 1, 'abroad': 1, 'purchas': 1, 'arm': 1, 'ammunit': 1, 'worth': 1, 'twenti': 1, 'million': 1, 'five': 1, 'hundr': 1, 'thousand': 1, 'unit': 1, 'dollar': 1, 'onli': 1, 'fight': 1, 'given': 1, 'without': 1, 'knowledg': 1, 'cabinet': 1, 'member': 1, 'wa': 1, 'kill': 1, 'bloodi': 1, 'shoot': 1, 'bodyguard': 1, 'day': 1, 'befor': 1, 'schedul': 1, 'travel': 1, 'decid': 1, 'put': 1, 'into': 1, 'safe': 1, 'amount': 1, 'present': 1, 'threaten': 1, 'arrest': 1, 'seizur': 1, 'properti': 1, 'rasheidi': 1, 'karesava': 1, 'tribesman': 1, 'personnel': 1, 'same': 1, 'tribe': 1, 'new': 1, 'joseph': 1, 'reliabl': 1, 'trustworthi': 1, 'suffici': 1, 'cover': 1, 'ensur': 1, 'baggag': 1, 'mark': 1, 'pass': 1, 'normal': 1, 'custom': 1, 'airport': 1, 'screen': 1, 'clearanc': 1, 'inabl': 1, 'all': 1, 'stem': 1, 'lack': 1, 'suppos': 1, 'good': 1, 'friend': 1, 'western': 1, 'suddenli': 1, 'becam': 1, 'hostil': 1, 'those': 1, 'after': 1, 'took': 1, 'offic': 1, 'though': 1, 'neither': 1, 'seen': 1, 'nor': 1, 'met': 1, 'each': 1, 'gather': 1, 'an': 1, 'associ': 1, 'encourag': 1, 'convinc': 1, 'transact': 1, 'properli': 1, 'handl': 1, 'modesti': 1, 'honesti': 1, 'huge': 1, 'success': 1, 'within': 1, 'two': 1, 'week': 1, 'therefor': 1, 'total': 1, 'would': 1, 'stand': 1, 'on': 1, 'behalf': 1, 'becaus': 1, 'restrict': 1, 'movement': 1, 'watch': 1, 'want': 1, 'veri': 1, 'care': 1, 'order': 1, 'lose': 1, 'which': 1, 'hard': 1, 'thu': 1, 'telephon': 1, 'person': 1, 'enabl': 1, 'discuss': 1, 'modal': 1, 'what': 1, 'share': 1, 'percentag': 1, 'note': 1, 'there': 1, 'risk': 1, 'involv': 1, 'everyon': 1, 's': 1, 'guarante': 1, 'guidelin': 1, 'furnish': 1, 'further': 1, 'detail': 1, 'soon': 1, 'am': 1, 'assur': 1, 'interest': 1, 'must': 1, 'use': 1, 'opportun': 1, 'medium': 1, 'implor': 1, 'exercis': 1, 'utmost': 1, 'matter': 1, 'extraordinarili': 1, 'whatev': 1, 'decis': 1, 'await': 1, 'prompt': 1, 'respons': 1, 'thank': 1, 'god': 1, 'best': 1, 'regard': 1, 'rtd': 1, 'n': 1, 'b': 1, 'call': 1, 'line': 1, 'directli': 1, 'do': 1, 'includ': 1, 'e': 1, 'just': 1, 'also': 1, 'irish': 1, 'linux': 1, 'user': 1, 'un': 1, 'subscript': 1, 'list': 1, 'maintain': 1}),\n",
       "       Counter({'the': 15, 'number': 15, 'to': 6, 'url': 5, 'sendmail': 4, 'list': 3, 'i': 3, 'of': 3, 'code': 3, 'have': 3, 'file': 3, 'in': 3, 'download': 3, 'it': 3, 'from': 2, 'cert': 2, 'cc': 2, 'that': 2, 'copi': 2, 'sourc': 2, 'for': 2, 'modifi': 2, 'contain': 2, 'a': 2, 'trojan': 2, 'hors': 2, 'tar': 2, 'appear': 2, 'ftp': 2, 'server': 2, 'on': 2, 'not': 2, 'via': 2, 'http': 2, 'thi': 2, 'time': 2, 'take': 2, 's': 2, 'es': 2, 'clipe': 1, 'latest': 1, 'warn': 1, 'descript': 1, 'ha': 1, 'receiv': 1, 'confirm': 1, 'some': 1, 'packag': 1, 'been': 1, 'by': 1, 'an': 1, 'intrud': 1, 'follow': 1, 'were': 1, 'includ': 1, 'malici': 1, 'z': 1, 'gz': 1, 'these': 1, 'began': 1, 'or': 1, 'around': 1, 'septemb': 1, 'develop': 1, 'team': 1, 'disabl': 1, 'compromis': 1, 'octob': 1, 'at': 1, 'approxim': 1, 'pdt': 1, 'doe': 1, 'howev': 1, 'encourag': 1, 'user': 1, 'who': 1, 'may': 1, 'dure': 1, 'period': 1, 'step': 1, 'outlin': 1, 'solut': 1, 'section': 1, 'as': 1, 'precautionari': 1, 'measur': 1, 'ok': 1, 'now': 1, 'work': 1, 'out': 1, 'pgp': 1, 'secur': 1, 'apt': 1, 'repositori': 1, 'traffic': 1, 've': 1, 'never': 1, 'gotten': 1, 'anyth': 1, 'but': 1, 'sitenam': 1, 'whatev': 1, 'will': 1, 'be': 1, 'authent': 1, 'until': 1, 'run': 1, 'redhat': 1, 'when': 1, 'get': 1, 'someth': 1, 'about': 1, 'no': 1, 'key': 1, 'variou': 1, 'what': 1, 'ensur': 1, 'we': 1, 're': 1, 'cover': 1, 'against': 1, 'kind': 1, 'childish': 1, 'moron': 1, 'microsoft': 1, 'era': 1, 'problem': 1, 'brian': 1, 'fahrländer': 1, 'linux': 1, 'zealot': 1, 'conserv': 1, 'and': 1, 'technomad': 1, 'evansvil': 1, 'my': 1, 'voyag': 1, 'icq': 1, 'angegangen': 1, 'schlang': 1, 'hüften': 1, 'sein': 1, 'ganz': 1, 'rüber': 1, 'jetzt': 1, 'bügel': 1, 'innen': 1, 'fest': 1, 'weil': 1, 'ein': 1, 'lang': 1, 'süsse': 1, 'fahrt': 1, 'ist': 1, '_______________________________________________': 1, 'rpm': 1, 'mail': 1}),\n",
       "       Counter({'hyperlink': 83, 'to': 45, 'the': 42, 'a': 28, 'number': 24, 'you': 21, 'in': 19, 'of': 18, 'and': 17, 'with': 17, 'for': 15, 'i': 15, 'your': 13, 'url': 10, 'is': 10, 'use': 10, 'get': 9, 'web': 9, 'lockergnom': 9, 's': 9, 'latest': 9, 'be': 9, 'are': 8, 'an': 8, 'thi': 8, 'our': 8, 'ad': 7, 'make': 7, 've': 7, 'time': 6, 'access': 6, 'templat': 6, 'on': 6, 'their': 6, 'that': 6, 'all': 6, 'from': 6, 'xml': 6, 'onli': 5, 'site': 5, 'got': 5, 'user': 5, 'have': 5, 'but': 5, 'can': 5, 'more': 5, 'e': 5, 'mail': 5, 'which': 5, 'blog': 5, 'design': 4, 'new': 4, 'link': 4, 'not': 4, 'out': 4, 'list': 4, 'thing': 4, 'tip': 4, 'want': 4, 'addit': 4, 'what': 4, 'solut': 4, 'manag': 4, 'address': 4, 't': 4, 'click': 4, 'if': 4, 'softwar': 4, 'or': 4, 'job': 4, 'png': 4, 'page': 4, 'search': 4, 'cost': 3, 'at': 3, 'each': 3, 'weekli': 3, 'brows': 3, 'it': 3, 'process': 3, 'so': 3, 'as': 3, 'phone': 3, 'power': 3, 'like': 3, 'still': 3, 'll': 3, 'they': 3, 'format': 3, 'document': 3, 'opalisrobot': 3, 'window': 3, 'even': 3, 'server': 3, 'when': 3, 'day': 3, 'transpar': 3, 'us': 3, 'charact': 3, 'could': 3, 'creat': 3, 'system': 3, 'look': 3, 'pleas': 3, 'tech': 3, 'soni': 3, 'cut': 2, 'css': 2, 'annual': 2, 'membership': 2, 'no': 2, 'back': 2, 'never': 2, 'mention': 2, 'ha': 2, 'dreamweav': 2, 'gnomi': 2, 'recent': 2, 'review': 2, 'been': 2, 'abl': 2, 'everi': 2, 'some': 2, 'those': 2, 'digit': 2, 'media': 2, 'newslett': 2, 'palm': 2, 'function': 2, 'built': 2, 'by': 2, 'way': 2, 'm': 2, 'my': 2, 'connect': 2, 'around': 2, 'portabl': 2, 'now': 2, 'final': 2, 'real': 2, 'featur': 2, 'away': 2, 'jake': 2, 'subscrib': 2, 'mysql': 2, 'databas': 2, 'abil': 2, 'send': 2, 'confirm': 2, 'idea': 2, 'do': 2, 'gener': 2, 'follow': 2, 'administr': 2, 'wait': 2, 'php': 2, 'interfac': 2, 'vnumber': 2, 'schedul': 2, 'ani': 2, 'program': 2, 'command': 2, 'task': 2, 'everyth': 2, 'remot': 2, 'simpl': 2, 'save': 2, 'file': 2, 'show': 2, 'qnumber': 2, 'imag': 2, 'background': 2, 'network': 2, 'person': 2, 'inform': 2, 'improv': 2, 'find': 2, 'next': 2, 'mark': 2, 'easili': 2, 'walk': 2, 'through': 2, 'limit': 2, 'userland': 2, 'content': 2, 'work': 2, 'chang': 2, 'visit': 2, 'download': 2, 'about': 2, 'read': 2, 'past': 2, 'issu': 2, 'rss': 2, 'feed': 2, 'syndic': 2, 'book': 2, 'editor': 2, 'yamaha': 2, 'davcnumb': 2, 'avrnumb': 2, 'pioneer': 2, 'sausag': 2, 'career': 2, 'webreport': 1, 'individu': 1, 'requir': 1, 'charg': 1, 'higher': 1, 'fee': 1, 'them': 1, 'client': 1, 'full': 1, 'galleri': 1, 'somehow': 1, 'gnometom': 1, 'there': 1, 'denni': 1, 'jarrett': 1, 'uk': 1, 'prolif': 1, 'write': 1, 'accomplish': 1, 'lent': 1, 'hi': 1, 'brain': 1, 'everyon': 1, 'should': 1, 'know': 1, 'newer': 1, 'easier': 1, 'actual': 1, 'version': 1, 'stuck': 1, 'until': 1, 'start': 1, 'studiomx': 1, 'suit': 1, 'appli': 1, 'tri': 1, 'aspect': 1, 'dreamweavermx': 1, 'guess': 1, 'will': 1, 'check': 1, 'em': 1, 'too': 1, 'yesterday': 1, 'switch': 1, 'cell': 1, 'kyocera': 1, 'qcpnumber': 1, 'unit': 1, 'screen': 1, 'size': 1, 'mnumber': 1, 'os': 1, 'bell': 1, 'whistl': 1, 'd': 1, 'msn': 1, 'slightli': 1, 'cumbersom': 1, 'compar': 1, 'cabl': 1, 'alreadi': 1, 'see': 1, 'carri': 1, 'drive': 1, 'direct': 1, 'test': 1, 'result': 1, 'vest': 1, 'interest': 1, 'consider': 1, 'wap': 1, 'compat': 1, 'figur': 1, 'mani': 1, 'go': 1, 'least': 1, 'few': 1, 'week': 1, 'without': 1, 'doubt': 1, 'share': 1, 'experi': 1, 'wape': 1, 'upcom': 1, 'seri': 1, 'articl': 1, 'ludington': 1, 'gnomemail': 1, 'phpmynewslett': 1, 'free': 1, 'smaller': 1, 'doe': 1, 'most': 1, 'need': 1, 'store': 1, 'initi': 1, 'must': 1, 'manual': 1, 'isn': 1, 'purg': 1, 'respons': 1, 'defin': 1, 'period': 1, 'either': 1, 'text': 1, 'html': 1, 'messag': 1, 'preview': 1, 'sure': 1, 'ok': 1, 'somewhat': 1, 'spars': 1, 'prior': 1, 'knowledg': 1, 'instal': 1, 'gnometool': 1, 'numbermb': 1, 'nt': 1, 'wnumberk': 1, 'xp': 1, 'think': 1, 'someth': 1, 'cron': 1, 'allow': 1, 'almost': 1, 'layer': 1, 'telephoni': 1, 'complet': 1, 'effect': 1, 'telephon': 1, 'dtmf': 1, 'tone': 1, 'administer': 1, 'locat': 1, 'control': 1, 'machin': 1, 'point': 1, 'oper': 1, 'environ': 1, 're': 1, 'extra': 1, 'hour': 1, 'compani': 1, 'dollar': 1, 'gnomeserv': 1, 'internet': 1, 'explor': 1, 'en': 1, 'contain': 1, 'graphic': 1, 'may': 1, 'appear': 1, 'gray': 1, 'rather': 1, 'than': 1, 'fortun': 1, 'microsoft': 1, 'explain': 1, 'problem': 1, 'haven': 1, 'encount': 1, 'display': 1, 'error': 1, 'simplement': 1, 'gnomeus': 1, 'great': 1, 'happen': 1, 'equal': 1, 'relev': 1, 'near': 1, 'end': 1, 'mean': 1, 'won': 1, 'simpli': 1, 'pilgrim': 1, 'creator': 1, 'set': 1, 'stage': 1, 'repres': 1, 'peopl': 1, 'physic': 1, 'mental': 1, 'technolog': 1, 'introduct': 1, 'scenario': 1, 'then': 1, 'relat': 1, 'concept': 1, 'specif': 1, 'benefit': 1, 'present': 1, 'mind': 1, 'veri': 1, 'littl': 1, 'extrapol': 1, 'friendli': 1, 'gnomeblog': 1, 'radio': 1, 'moment': 1, 'keep': 1, 'automat': 1, 'updat': 1, 'itself': 1, 'goe': 1, 'far': 1, 'beyond': 1, 'desktop': 1, 'though': 1, 'fulli': 1, 'rpc': 1, 'soap': 1, 'tie': 1, 'adapt': 1, 'other': 1, 'applic': 1, 'knowhow': 1, 'backend': 1, 'place': 1, 'under': 1, 'hood': 1, 'inner': 1, 'includ': 1, 'detail': 1, 'modif': 1, 'open': 1, 'discuss': 1, 'forum': 1, 'trade': 1, 'unsubscrib': 1, 'deliveri': 1, 'subscript': 1, 'further': 1, 'refer': 1, 'gnomecredit': 1, 'sidebar': 1, 'daili': 1, 'specialist': 1, 'penguin': 1, 'shell': 1, 'appl': 1, 'core': 1, 'bit': 1, 'byte': 1, 'audio': 1, 'low': 1, 'price': 1, 'confer': 1, 'gnomestor': 1, 'tell': 1, 'friend': 1, 'suggest': 1, 'advertis': 1, 'high': 1, 'chat': 1, 'watch': 1, 'webcam': 1, 'comput': 1, 'x': 1, 'setup': 1, 'privaci': 1, 'polici': 1, 'view': 1, 'option': 1, 'chri': 1, 'feedback': 1, 'sound': 1, 'rx': 1, 'harman': 1, 'kardon': 1, 'denon': 1, 'vsxdnumber': 1, 'elit': 1, 'vsxnumbertx': 1, 'htddwnumber': 1, 'htrnumber': 1, 'bose': 1, 'lsnumberbk': 1, 'gnomespeci': 1, 'workgroup': 1, 'form': 1, 'pilot': 1, 'say': 1, 'boomer': 1, 'stream': 1, 'cd': 1, 'catalog': 1, 'easi': 1, 'kleptomania': 1, 'tag': 1, 'renam': 1, 'pretti': 1, 'good': 1, 'solitair': 1, 'visual': 1, 'color': 1, 'combo': 1, 'firststop': 1, 'websearch': 1, 'ecobuild': 1, 'collector': 1, 'here': 1, 'question': 1, 'group': 1, 'strong': 1, 'alway': 1, 'stuff': 1, 'profession': 1, 'live': 1, 'run': 1, 'smoother': 1, 'up': 1, 'credit': 1, 'llc': 1, 'right': 1, 'reserv': 1, 'nathan': 1, 'allan': 1, 'crew': 1, 'lunat': 1, 'spin': 1, 'term': 1, 'servic': 1, 'paid': 1, 'worth': 1, 'better': 1, 'one': 1, 'dream': 1, 'mous': 1, 'posit': 1, 'futur': 1, 'today': 1})],\n",
       "      dtype=object)"
      ]
     },
     "execution_count": 107,
     "metadata": {},
     "output_type": "execute_result"
    }
   ],
   "source": [
    "X_few = X_train[:3]\n",
    "X_few_wordcounts = EmailToWordCounterTransformer().fit_transform(X_few)\n",
    "X_few_wordcounts"
   ]
  },
  {
   "cell_type": "code",
   "execution_count": 108,
   "metadata": {},
   "outputs": [],
   "source": [
    "from scipy.sparse import csr_matrix\n",
    "\n",
    "class WordCounterToVectorTransformer(BaseEstimator, TransformerMixin):\n",
    "    def __init__(self, vocabulary_size=1000):\n",
    "        self.vocabulary_size = vocabulary_size\n",
    "    def fit(self, X, y=None):\n",
    "        total_count = Counter()\n",
    "        for word_count in X:\n",
    "            for word, count in word_count.items():\n",
    "                total_count[word] += min(count, 10)\n",
    "        most_common = total_count.most_common()[:self.vocabulary_size]\n",
    "        self.most_common_ = most_common\n",
    "        self.vocabulary_ = {word: index + 1 for index, (word, count) in enumerate(most_common)}\n",
    "        return self\n",
    "    def transform(self, X, y=None):\n",
    "        rows = []\n",
    "        cols = []\n",
    "        data = []\n",
    "        for row, word_count in enumerate(X):\n",
    "            for word, count in word_count.items():\n",
    "                rows.append(row)\n",
    "                cols.append(self.vocabulary_.get(word, 0))\n",
    "                data.append(count)\n",
    "        return csr_matrix((data, (rows, cols)), shape=(len(X), self.vocabulary_size + 1))"
   ]
  },
  {
   "cell_type": "code",
   "execution_count": 109,
   "metadata": {},
   "outputs": [
    {
     "data": {
      "text/plain": [
       "<3x11 sparse matrix of type '<class 'numpy.int64'>'\n",
       "\twith 32 stored elements in Compressed Sparse Row format>"
      ]
     },
     "execution_count": 109,
     "metadata": {},
     "output_type": "execute_result"
    }
   ],
   "source": [
    "vocab_transformer = WordCounterToVectorTransformer(vocabulary_size=10)\n",
    "X_few_vectors = vocab_transformer.fit_transform(X_few_wordcounts)\n",
    "X_few_vectors"
   ]
  },
  {
   "cell_type": "code",
   "execution_count": 110,
   "metadata": {},
   "outputs": [
    {
     "data": {
      "text/plain": [
       "array([[ 547,   28,    9,   28,   30,   12,   11,   20,   14,    5,   17],\n",
       "       [ 188,   15,   15,    6,    3,    3,    2,    1,    0,    5,    2],\n",
       "       [1103,   42,   24,   45,   18,   19,   28,   17,   13,   10,    8]],\n",
       "      dtype=int64)"
      ]
     },
     "execution_count": 110,
     "metadata": {},
     "output_type": "execute_result"
    }
   ],
   "source": [
    "X_few_vectors.toarray()"
   ]
  },
  {
   "cell_type": "code",
   "execution_count": 111,
   "metadata": {},
   "outputs": [
    {
     "data": {
      "text/plain": [
       "{'the': 1,\n",
       " 'number': 2,\n",
       " 'to': 3,\n",
       " 'of': 4,\n",
       " 'in': 5,\n",
       " 'a': 6,\n",
       " 'and': 7,\n",
       " 'your': 8,\n",
       " 'url': 9,\n",
       " 'thi': 10}"
      ]
     },
     "execution_count": 111,
     "metadata": {},
     "output_type": "execute_result"
    }
   ],
   "source": [
    "vocab_transformer.vocabulary_"
   ]
  },
  {
   "cell_type": "code",
   "execution_count": 119,
   "metadata": {},
   "outputs": [],
   "source": [
    "from sklearn.pipeline import Pipeline\n",
    "\n",
    "preprocess_pipeline = Pipeline([\n",
    "    (\"email_to_wordcount\", EmailToWordCounterTransformer()),\n",
    "    (\"wordcount_to_vector\", WordCounterToVectorTransformer()),\n",
    "])\n",
    "\n",
    "X_train_transformed = preprocess_pipeline.fit_transform(X_train)"
   ]
  },
  {
   "cell_type": "markdown",
   "metadata": {},
   "source": [
    "## Logictic regression"
   ]
  },
  {
   "cell_type": "code",
   "execution_count": 120,
   "metadata": {},
   "outputs": [
    {
     "name": "stdout",
     "output_type": "stream",
     "text": [
      "[CV]  ................................................................\n",
      "[CV] ..................................... , score=0.94, total=   0.1s\n",
      "[CV]  ................................................................\n",
      "[CV] ..................................... , score=0.94, total=   0.1s\n",
      "[CV]  ................................................................\n",
      "[CV] .................................... , score=0.955, total=   0.1s\n"
     ]
    },
    {
     "name": "stderr",
     "output_type": "stream",
     "text": [
      "[Parallel(n_jobs=1)]: Using backend SequentialBackend with 1 concurrent workers.\n",
      "/home/tblain/venv/lib/python3.6/site-packages/sklearn/linear_model/logistic.py:758: ConvergenceWarning: lbfgs failed to converge. Increase the number of iterations.\n",
      "  \"of iterations.\", ConvergenceWarning)\n",
      "[Parallel(n_jobs=1)]: Done   1 out of   1 | elapsed:    0.1s remaining:    0.0s\n",
      "/home/tblain/venv/lib/python3.6/site-packages/sklearn/linear_model/logistic.py:758: ConvergenceWarning: lbfgs failed to converge. Increase the number of iterations.\n",
      "  \"of iterations.\", ConvergenceWarning)\n",
      "[Parallel(n_jobs=1)]: Done   2 out of   2 | elapsed:    0.1s remaining:    0.0s\n",
      "/home/tblain/venv/lib/python3.6/site-packages/sklearn/linear_model/logistic.py:758: ConvergenceWarning: lbfgs failed to converge. Increase the number of iterations.\n",
      "  \"of iterations.\", ConvergenceWarning)\n",
      "[Parallel(n_jobs=1)]: Done   3 out of   3 | elapsed:    0.2s finished\n"
     ]
    },
    {
     "data": {
      "text/plain": [
       "0.945"
      ]
     },
     "execution_count": 120,
     "metadata": {},
     "output_type": "execute_result"
    }
   ],
   "source": [
    "from sklearn.linear_model import LogisticRegression\n",
    "from sklearn.model_selection import cross_val_score\n",
    "\n",
    "log_clf = LogisticRegression(solver=\"lbfgs\", random_state=42)\n",
    "score = cross_val_score(log_clf, X_train_transformed, y_train, cv=3, verbose=3)\n",
    "score.mean()"
   ]
  },
  {
   "cell_type": "code",
   "execution_count": 115,
   "metadata": {},
   "outputs": [
    {
     "name": "stdout",
     "output_type": "stream",
     "text": [
      "Precision: 92.38%\n",
      "Recall: 98.98%\n"
     ]
    },
    {
     "name": "stderr",
     "output_type": "stream",
     "text": [
      "/home/tblain/venv/lib/python3.6/site-packages/sklearn/linear_model/logistic.py:758: ConvergenceWarning: lbfgs failed to converge. Increase the number of iterations.\n",
      "  \"of iterations.\", ConvergenceWarning)\n"
     ]
    }
   ],
   "source": [
    "from sklearn.metrics import precision_score, recall_score\n",
    "\n",
    "X_test_transformed = preprocess_pipeline.transform(X_test)\n",
    "\n",
    "log_clf = LogisticRegression(solver=\"lbfgs\", random_state=42)\n",
    "log_clf.fit(X_train_transformed, y_train)\n",
    "\n",
    "y_pred = log_clf.predict(X_test_transformed)\n",
    "\n",
    "print(\"Precision: {:.2f}%\".format(100s * precision_score(y_test, y_pred)))\n",
    "print(\"Recall: {:.2f}%\".format(100 * recall_score(y_test, y_pred)))"
   ]
  },
  {
   "cell_type": "markdown",
   "metadata": {},
   "source": [
    "## XGBoost"
   ]
  },
  {
   "cell_type": "code",
   "execution_count": 127,
   "metadata": {},
   "outputs": [],
   "source": [
    "import xgboost as xgb\n",
    "model_xgb = xgb.XGBClassifier(n_estimators=100000, max_depth=8, learning_rate=0.1)"
   ]
  },
  {
   "cell_type": "code",
   "execution_count": 128,
   "metadata": {},
   "outputs": [
    {
     "data": {
      "text/plain": [
       "XGBClassifier(base_score=0.5, booster='gbtree', colsample_bylevel=1,\n",
       "       colsample_bytree=1, gamma=0, learning_rate=0.1, max_delta_step=0,\n",
       "       max_depth=8, min_child_weight=1, missing=None, n_estimators=100000,\n",
       "       n_jobs=1, nthread=None, objective='binary:logistic', random_state=0,\n",
       "       reg_alpha=0, reg_lambda=1, scale_pos_weight=1, seed=None,\n",
       "       silent=True, subsample=1)"
      ]
     },
     "execution_count": 128,
     "metadata": {},
     "output_type": "execute_result"
    }
   ],
   "source": [
    "model_xgb.fit(X_train_transformed, y_train)"
   ]
  },
  {
   "cell_type": "code",
   "execution_count": 130,
   "metadata": {},
   "outputs": [
    {
     "name": "stdout",
     "output_type": "stream",
     "text": [
      "Precision: 93.27%\n",
      "Recall: 98.98%\n"
     ]
    }
   ],
   "source": [
    "from sklearn.metrics import precision_score, recall_score\n",
    "\n",
    "X_test_transformed = preprocess_pipeline.transform(X_test)\n",
    "\n",
    "y_pred = model_xgb.predict(X_test_transformed)\n",
    "\n",
    "print(\"Precision: {:.2f}%\".format(100 * precision_score(y_test, y_pred)))\n",
    "print(\"Recall: {:.2f}%\".format(100 * recall_score(y_test, y_pred)))"
   ]
  },
  {
   "cell_type": "markdown",
   "metadata": {},
   "source": [
    "## Neural network"
   ]
  },
  {
   "cell_type": "code",
   "execution_count": 134,
   "metadata": {},
   "outputs": [],
   "source": [
    "import numpy\n",
    "import pandas\n",
    "from keras.models import Sequential\n",
    "from keras.layers import Dense\n",
    "from keras.wrappers.scikit_learn import KerasClassifier\n",
    "from sklearn.model_selection import cross_val_score\n",
    "from sklearn.preprocessing import LabelEncoder\n",
    "from sklearn.model_selection import StratifiedKFold\n",
    "from sklearn.preprocessing import StandardScaler\n",
    "from sklearn.pipeline import Pipeline"
   ]
  },
  {
   "cell_type": "code",
   "execution_count": 135,
   "metadata": {},
   "outputs": [],
   "source": [
    "# fix random seed for reproducibility\n",
    "seed = 7\n",
    "numpy.random.seed(seed)"
   ]
  },
  {
   "cell_type": "code",
   "execution_count": 143,
   "metadata": {},
   "outputs": [],
   "source": [
    "def create_baseline():\n",
    "    # create model\n",
    "    model = Sequential()\n",
    "    model.add(Dense(100, input_dim=1001, kernel_initializer='normal', activation='relu'))\n",
    "    model.add(Dense(100, kernel_initializer='normal', activation='relu'))\n",
    "    model.add(Dense(100, kernel_initializer='normal', activation='relu'))\n",
    "    model.add(Dense(100, kernel_initializer='normal', activation='relu'))\n",
    "    model.add(Dense(1, kernel_initializer='normal', activation='sigmoid'))\n",
    "    \n",
    "    # Compile model\n",
    "    model.compile(loss='binary_crossentropy', optimizer='adam', metrics=['accuracy'])\n",
    "    return model"
   ]
  },
  {
   "cell_type": "code",
   "execution_count": null,
   "metadata": {},
   "outputs": [],
   "source": [
    "estimator = KerasClassifier(build_fn=create_baseline, epochs=100, batch_size=5, verbose=0)\n",
    "kfold = StratifiedKFold(n_splits=10, shuffle=True, random_state=seed)\n",
    "results = cross_val_score(estimator, X_train_transformed, y_train, cv=kfold)\n",
    "print(\"Results: %.2f%% (%.2f%%)\" % (results.mean()*100, results.std()*100))"
   ]
  },
  {
   "cell_type": "code",
   "execution_count": null,
   "metadata": {},
   "outputs": [],
   "source": []
  }
 ],
 "metadata": {
  "kernelspec": {
   "display_name": "Python 3",
   "language": "python",
   "name": "python3"
  },
  "language_info": {
   "codemirror_mode": {
    "name": "ipython",
    "version": 3
   },
   "file_extension": ".py",
   "mimetype": "text/x-python",
   "name": "python",
   "nbconvert_exporter": "python",
   "pygments_lexer": "ipython3",
   "version": "3.6.7"
  }
 },
 "nbformat": 4,
 "nbformat_minor": 2
}
